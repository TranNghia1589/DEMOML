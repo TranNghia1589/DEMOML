{
 "cells": [
  {
   "cell_type": "markdown",
   "metadata": {},
   "source": [
    "## Numpy"
   ]
  },
  {
   "cell_type": "code",
   "execution_count": 1,
   "metadata": {},
   "outputs": [
    {
     "name": "stdout",
     "output_type": "stream",
     "text": [
      "Kieu du lieu cua mang:  <class 'numpy.ndarray'>\n",
      "Kieu du lieu cua phan tu trong mang: int64\n",
      "Kich thuoc cua mang: (11,)\n"
     ]
    }
   ],
   "source": [
    "# Câu 1: \n",
    "import numpy as np\n",
    "from scipy import stats\n",
    "#Tạo numpy array từ 0 đến 10\n",
    "arr = np.arange(11)\n",
    "# Xem kiểu dữ liệu của mảng và kiểu dữ liệu phần tử của mảng\n",
    "print(\"Kieu du lieu cua mang: \", type(arr))\n",
    "print(\"Kieu du lieu cua phan tu trong mang:\", arr.dtype)\n",
    "# Xem kích thước của mảng\n",
    "print(\"Kich thuoc cua mang:\", arr.shape)"
   ]
  },
  {
   "cell_type": "code",
   "execution_count": 3,
   "metadata": {},
   "outputs": [
    {
     "name": "stdout",
     "output_type": "stream",
     "text": [
      "[10  9  8  7  6  5  4  3  2  1  0]\n",
      "[ 7  8  9 10]\n",
      "[0 1 2 3 4 5]\n"
     ]
    }
   ],
   "source": [
    "# Câu2\n",
    "# Thực hiện sắp xếp mảng vừa tạo ở câu 1 theo thứ tự giảm dần\n",
    "arr_sorted = np.sort(arr)[::-1]\n",
    "print(arr_sorted)\n",
    "# Từ mảng vừa tạo, tạo 2 mảng con có giá trị lần lượt là lớn hơn 6 (>6) và bé hơn 6 (<6)\n",
    "a=arr>6\n",
    "arr1=arr[a]\n",
    "print(arr1)\n",
    "b=arr<6\n",
    "arr2=arr[b]\n",
    "print(arr2)"
   ]
  },
  {
   "cell_type": "code",
   "execution_count": 4,
   "metadata": {},
   "outputs": [
    {
     "name": "stdout",
     "output_type": "stream",
     "text": [
      "[ 0  1  2  3  4  5  6  7  8  9 10 11 12]\n",
      "[  0   1   2   3   4 100   5   6   7   8   9  10  11  12]\n",
      "[ 0  1  2  3  4  6  7  8  9 10]\n"
     ]
    }
   ],
   "source": [
    "#Câu 3\n",
    "# Thêm [11,12] vào cuối mảng vừa tạo ở câu 1\n",
    "new_arr=[11,12]\n",
    "arr=np.append(arr,new_arr)\n",
    "print(arr)\n",
    "# Thêm giá trị 100 vào mảng trên tại vị trí có index là 5\n",
    "new_arr1=np.insert(arr,5,100)\n",
    "print(new_arr1)\n",
    "# Xoa phan tu co index lan luot la 5,11,12\n",
    "arr = np.delete(arr,[5,11,12])\n",
    "print(arr)"
   ]
  },
  {
   "cell_type": "code",
   "execution_count": 5,
   "metadata": {},
   "outputs": [
    {
     "name": "stdout",
     "output_type": "stream",
     "text": [
      "[31 82 84 17 74 86 10 93 41 83 57 71 14 87 37 31 99 73 40  3]\n",
      "Tổng: 1113\n",
      "Trung bình: 55.65\n",
      "Phương sai: 920.3275\n",
      "Độ lệch chuẩn: 30.336899973464657\n",
      "Trung vi: 64.0\n",
      "Yếu trị: 31\n",
      "Giá trị lớn nhất: 99\n",
      "Giá trị nhỏ nhất: 3\n"
     ]
    }
   ],
   "source": [
    "#Câu 4: \n",
    "# Tao mot mang numpy voi cac gia tri ngau nhien (int) tu 1 den 100, kich thuoc 20\n",
    "arr_rand = np.random.randint(1,100,20)\n",
    "print(arr_rand)\n",
    "# Tinh tong, trung binh, phuong sai, do lech chuan, trung vi, yeu tri, gia tri lon nhat, gia tri nho nhat cua mang do\n",
    "arr_sum = np.sum(arr_rand) #tong\n",
    "arr_mean = np.mean(arr_rand) #trung binh\n",
    "arr_variance = np.var(arr_rand)\n",
    "arr_std = np.std(arr_rand) #do lech chuan\n",
    "arr_median = np.median(arr_rand) #trungvi\n",
    "arr_mode_result = stats.mode(arr_rand) #yeu tri\n",
    "arr_max = np.max(arr_rand)# gia tri lon nhat\n",
    "arr_min = np.min(arr_rand)# gia tri nho nhat\n",
    "print(f\"Tổng: {arr_sum}\\nTrung bình: {arr_mean}\\nPhương sai: {arr_variance}\\nĐộ lệch chuẩn: {arr_std}\\nTrung vi: {arr_median}\\nYếu trị: {arr_mode_result.mode}\\nGiá trị lớn nhất: {arr_max}\\nGiá trị nhỏ nhất: {arr_min}\")\n"
   ]
  },
  {
   "cell_type": "code",
   "execution_count": 6,
   "metadata": {},
   "outputs": [
    {
     "name": "stdout",
     "output_type": "stream",
     "text": [
      "[[0.01333333 0.14666667 0.52       0.25333333 1.        ]\n",
      " [0.18666667 0.6        0.98666667 0.48       0.        ]\n",
      " [0.21333333 0.33333333 0.44       0.37333333 0.54666667]\n",
      " [0.61333333 0.21333333 0.65333333 0.02666667 0.01333333]\n",
      " [0.44       0.96       0.62666667 0.74666667 0.41333333]]\n"
     ]
    }
   ],
   "source": [
    "#Câu 5:\n",
    "# Tạo một ma trận 3x3 với các giá trị từ 1 đến 9 và cộng thêm một giá trị scalar bằng 10 vào từng phần tử\n",
    "arr3 = np.random.randint(1,9,size=(3,3))\n",
    "# Tạo hai mảng np.array([1, 2, 3, 4]) và np.array([5, 6, 7, 8]) với kích thước 4 và thực hiện phép nhân ma trận.\n",
    "A = np.array([1, 2, 3, 4])\n",
    "B = np.array([5, 6, 7, 8])\n",
    "result = np.dot(A,B)\n",
    "# Tạo một ma trận 5x5 với các giá trị ngẫu nhiên từ 1 đến 100 và chuẩn hóa giá trị trong ma trận để nằm trong khoảng [0, 1].\n",
    "arr5 = np.random.randint(1,100,size=(5,5))\n",
    "arr5 = (arr5-np.min(arr5))/(np.max(arr5)-np.min(arr5))\n",
    "print(arr5)"
   ]
  },
  {
   "cell_type": "code",
   "execution_count": 6,
   "metadata": {},
   "outputs": [],
   "source": [
    "# Câu 6\n",
    "# Giải hệ phương trình tuyến tính dựa vào ma trận nghịch đảo\n",
    "# 2a-b-c = 4\n",
    "# 3a + 4b -2c = 11\n",
    "# 3a-2y+4z = 11\n",
    "# Trong đó:\n",
    "# Định thức được tính dựa vào hàm : np.linalg.det(matrix)\n",
    "# Ma trận nghịch đảo dựa vào hàm : np.linalg.inv(matrix)\n",
    "# Nhân hai ma trận dùng hàm sau: np.dot(matrix)"
   ]
  },
  {
   "cell_type": "markdown",
   "metadata": {},
   "source": [
    "## Pandas"
   ]
  },
  {
   "cell_type": "code",
   "execution_count": 7,
   "metadata": {},
   "outputs": [],
   "source": [
    "# 1. Đọc file dữ liệu\n",
    "\n",
    "# Đưa ra các thống kê mô tả cơ bản cho các cột số"
   ]
  },
  {
   "cell_type": "code",
   "execution_count": 8,
   "metadata": {},
   "outputs": [],
   "source": [
    "#2 Thay đổi tên của các cột sau col --> cholesterol , thal --> thalassemia"
   ]
  },
  {
   "cell_type": "code",
   "execution_count": 9,
   "metadata": {},
   "outputs": [],
   "source": [
    "#3\n",
    "# Xoá các dòng bị trùng lặp\n",
    "\n",
    "# Xóa các dòng trùng lặp và giữ lại dòng đầu tiên"
   ]
  },
  {
   "cell_type": "code",
   "execution_count": 10,
   "metadata": {},
   "outputs": [],
   "source": [
    "# Câu 4\n",
    "# Kiểm tra các giá trị null có trong mỗi cột và xử lý các giá trị null đó"
   ]
  },
  {
   "cell_type": "code",
   "execution_count": 11,
   "metadata": {},
   "outputs": [],
   "source": [
    "# Tính giá trị trung bình của cột 'age'\n",
    "\n",
    "# Thay thế giá trị NaN trong cột 'age' bằng giá trị trung bình\n"
   ]
  },
  {
   "cell_type": "code",
   "execution_count": 12,
   "metadata": {},
   "outputs": [],
   "source": [
    "# Câu 5 \n",
    "# In ra các dòng có age > 60\n",
    "\n",
    "# Thêm dòng dữ liệu mới\n",
    "\n",
    "# Tạo cột mới có tên là outcome với giá trị [Có; Không] nếu Target là 1 --> Có; 0 --> Không\n",
    "\n",
    "\n",
    "# Xoá cột cp\n",
    "\n",
    "# Xoá dòng có giá trị age bằng 37\n",
    "\n",
    "# Sắp xếp giá trị cột age theo giá trị giảm dần\n",
    "\n",
    "# Người có độ tuổi lớn nhất và bé nhất"
   ]
  },
  {
   "cell_type": "code",
   "execution_count": 13,
   "metadata": {},
   "outputs": [],
   "source": [
    "# Câu 6: Xuất file dữ liệu"
   ]
  },
  {
   "cell_type": "markdown",
   "metadata": {},
   "source": [
    "## Matplotlib"
   ]
  },
  {
   "cell_type": "code",
   "execution_count": 14,
   "metadata": {},
   "outputs": [],
   "source": [
    "import matplotlib.pyplot as plt\n",
    "import numpy as np"
   ]
  },
  {
   "cell_type": "code",
   "execution_count": 15,
   "metadata": {},
   "outputs": [],
   "source": [
    "# Câu 1: Khởi tạo 2 mảng ngẫu nhiên X, Y có kích thươc là (50,)\n",
    "# Vẽ biểu đồ scatter với tên là \"Biểu đồ biểu diễn sự phân tán\"\n",
    "# Marker màu đó có kích thước là 100"
   ]
  },
  {
   "cell_type": "code",
   "execution_count": 16,
   "metadata": {},
   "outputs": [],
   "source": [
    "# Câu 2: Khởi tạo một mảng ngẫu nhiên Z có kích thước là (1000,). \n",
    "# Vẽ biểu đồ histogram để biểu diễn phân phối của Z. Sử dụng 30 bins, màu sắc của histogram là màu xanh dương, và thêm lưới vào biểu đồ. \n",
    "# Tiêu đề của biểu đồ là \"Biểu đồ phân phối của Z\"."
   ]
  },
  {
   "cell_type": "code",
   "execution_count": 17,
   "metadata": {},
   "outputs": [],
   "source": [
    "# Câu 3: Khởi tạo một mảng ngẫu nhiên thời gian T có kích thước (12,) để đại diện cho 12 tháng trong năm và \n",
    "# một mảng ngẫu nhiên S với cùng kích thước để đại diện cho doanh số bán hàng. \n",
    "# Vẽ biểu đồ đường với S là giá trị theo thời gian T. Đặt tên cho biểu đồ là \"Biểu đồ đường doanh số theo tháng\". \n",
    "# Đường màu xanh lá cây, marker là hình vuông với kích thước 8."
   ]
  },
  {
   "cell_type": "code",
   "execution_count": 18,
   "metadata": {},
   "outputs": [],
   "source": [
    "# Câu 4: Khởi tạo một mảng ngẫu nhiên A với 5 giá trị đại diện cho các loại sản phẩm, \n",
    "# và một mảng ngẫu nhiên B với 5 giá trị đại diện cho doanh số của từng loại sản phẩm. \n",
    "# Vẽ biểu đồ cột để biểu diễn doanh số của các sản phẩm với tên biểu đồ là \"Doanh số các loại sản phẩm\". \n",
    "# Mỗi cột có màu vàng và hiển thị giá trị trên mỗi cột."
   ]
  },
  {
   "cell_type": "code",
   "execution_count": 19,
   "metadata": {},
   "outputs": [],
   "source": [
    "# Câu 5: Khởi tạo 3 mảng ngẫu nhiên M1, M2, và M3 có kích thước là (100,). \n",
    "# Vẽ biểu đồ boxplot để biểu diễn phân phối của ba nhóm dữ liệu này. Đặt tên biểu đồ là \"Biểu đồ hộp của ba nhóm dữ liệu\". \n",
    "# Sử dụng màu xanh lam cho hộp và màu đỏ cho đường trung vị."
   ]
  },
  {
   "cell_type": "code",
   "execution_count": 20,
   "metadata": {},
   "outputs": [],
   "source": [
    "# Câu 6: Khởi tạo một mảng ngẫu nhiên P với 5 giá trị đại diện cho tỷ lệ phần trăm của 5 loại dịch vụ. \n",
    "# Vẽ biểu đồ pie chart để biểu diễn tỷ lệ phần trăm của các loại dịch vụ này.\n",
    "#  Đặt tên biểu đồ là \"Biểu đồ tỷ lệ phần trăm của các loại dịch vụ\". Mỗi phần của biểu đồ có màu khác nhau, \n",
    "# và phần có giá trị lớn nhất được tách ra (explode). Thêm nhãn giá trị phần trăm vào từng phần."
   ]
  }
 ],
 "metadata": {
  "kernelspec": {
   "display_name": "Python 3",
   "language": "python",
   "name": "python3"
  },
  "language_info": {
   "codemirror_mode": {
    "name": "ipython",
    "version": 3
   },
   "file_extension": ".py",
   "mimetype": "text/x-python",
   "name": "python",
   "nbconvert_exporter": "python",
   "pygments_lexer": "ipython3",
   "version": "3.12.6"
  }
 },
 "nbformat": 4,
 "nbformat_minor": 2
}
